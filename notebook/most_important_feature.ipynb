{
 "cells": [
  {
   "cell_type": "code",
   "execution_count": 84,
   "metadata": {},
   "outputs": [],
   "source": [
    "system_prompt = \"You are a specialist in manual natural language tests. You have to test a specific described functionality. Follow a professional and clear style guide. First step is to analyze the picture, then write the test cases. Each test should have at least 2 steps.\""
   ]
  },
  {
   "cell_type": "code",
   "execution_count": 85,
   "metadata": {},
   "outputs": [],
   "source": [
    "user_prompt = \"Create a manual test case suite with 1 test cases for the provided screenshot, where the test will have the single objective: Search for the pale blue dot image using voice search. Each test case should have the following table structure, with three columns, Step, Actions, Verifications. Also, add a title to each table. Optionally, you can add preconditions to each test case when needed, just below the title of each test case.\""
   ]
  },
  {
   "cell_type": "code",
   "execution_count": 86,
   "metadata": {},
   "outputs": [
    {
     "data": {
      "text/plain": [
       "'https://drive.google.com/uc?export=download&id=12t5n5iH-NvTGZXrywetzyB6_SJJyyZh5'"
      ]
     },
     "execution_count": 86,
     "metadata": {},
     "output_type": "execute_result"
    }
   ],
   "source": [
    "def extract_id_url_from_google_share_link(share_link):\n",
    "    return share_link.split(\"/\")[5]\n",
    "\n",
    "\n",
    "def create_download_url_from_id(id):\n",
    "    return \"https://drive.google.com/uc?export=download&id=\" + id\n",
    "\n",
    "\n",
    "def create_url_from_link(share_link):\n",
    "    return create_download_url_from_id(\n",
    "        extract_id_url_from_google_share_link(share_link)\n",
    "    )\n",
    "\n",
    "\n",
    "create_url_from_link(\n",
    "    \"https://drive.google.com/file/d/12t5n5iH-NvTGZXrywetzyB6_SJJyyZh5/view\"\n",
    ")"
   ]
  },
  {
   "cell_type": "code",
   "execution_count": 87,
   "metadata": {},
   "outputs": [],
   "source": [
    "from openai import OpenAI\n",
    "\n",
    "client = OpenAI(api_key=\"PLACEHOLDER_OPENAI_API_KEY\")\n",
    "google_url = create_url_from_link(input(\"Cole o link do google drive\"))  # type: ignore\n",
    "response = client.chat.completions.create(\n",
    "    model=\"gpt-4o\",\n",
    "    messages=[\n",
    "        {\n",
    "            \"role\": \"system\",\n",
    "            \"content\": system_prompt,  # type: ignore\n",
    "        },\n",
    "        {\n",
    "            \"role\": \"user\",\n",
    "            \"content\": [\n",
    "                {\n",
    "                    \"type\": \"text\",\n",
    "                    \"text\": user_prompt,  # type: ignore\n",
    "                },\n",
    "                {\n",
    "                    \"type\": \"image_url\",\n",
    "                    \"image_url\": {\n",
    "                        \"url\": google_url,\n",
    "                    },\n",
    "                },\n",
    "            ],\n",
    "        },\n",
    "    ],\n",
    ")\n",
    "\n",
    "content = response.choices[0].message.content\n",
    "import datetime\n",
    "\n",
    "name_from_time = datetime.datetime.now().strftime(\"%Y-%m-%d  %H-%M-%S\")\n",
    "with open(f\"{name_from_time}.md\", \"w\") as file:\n",
    "    file.write(content)\n",
    "\n",
    "with open(f\"{name_from_time}.md\", \"a\") as file:\n",
    "    file.write(f\"\\n\\n---\\n[SYSTEM]: {system_prompt}\\n\")\n",
    "    file.write(f\"\\n[USER]: {user_prompt}\\n\")\n",
    "    file.write(f\"\\n Image: [{google_url}]({google_url})\\n\")"
   ]
  },
  {
   "cell_type": "code",
   "execution_count": 88,
   "metadata": {},
   "outputs": [
    {
     "name": "stdout",
     "output_type": "stream",
     "text": [
      "ChatCompletion(id='chatcmpl-ANfSZdCNREhNjvId1DehUZjs0wrT2', choices=[Choice(finish_reason='stop', index=0, logprobs=None, message=ChatCompletionMessage(content='### Test Case: Search for the Pale Blue Dot Image using Voice Search\\n\\n**Preconditions:** \\n- The user must have a working microphone.\\n- The browser must have permission to use the microphone.\\n- The device is connected to the internet.\\n\\n| Step | Actions | Verifications |\\n|------|---------|---------------|\\n| 1    | Open the Yahoo homepage in a web browser. | Verify the page loads successfully and the search bar with the voice search icon is visible. |\\n| 2    | Click on the microphone (voice search) icon in the search bar. | Verify the browser requests microphone access if not already granted. |\\n| 3    | Speak \"Pale Blue Dot image\" clearly into the microphone. | Verify the voice input is processed, and the search query is correctly transcribed in the search bar. |\\n| 4    | Confirm the search by following any on-screen instructions if required. | Verify the search results page displays results related to \"Pale Blue Dot image.\" |', refusal=None, role='assistant', audio=None, function_call=None, tool_calls=None))], created=1730204279, model='gpt-4o-2024-08-06', object='chat.completion', service_tier=None, system_fingerprint='fp_72bbfa6014', usage=CompletionUsage(completion_tokens=204, prompt_tokens=1597, total_tokens=1801, completion_tokens_details=CompletionTokensDetails(audio_tokens=None, reasoning_tokens=0), prompt_tokens_details=PromptTokensDetails(audio_tokens=None, cached_tokens=0)))\n",
      "CompletionUsage(completion_tokens=204, prompt_tokens=1597, total_tokens=1801, completion_tokens_details=CompletionTokensDetails(audio_tokens=None, reasoning_tokens=0), prompt_tokens_details=PromptTokensDetails(audio_tokens=None, cached_tokens=0))\n"
     ]
    }
   ],
   "source": [
    "print(response)\n",
    "print(response.usage)"
   ]
  },
  {
   "cell_type": "code",
   "execution_count": 89,
   "metadata": {},
   "outputs": [],
   "source": [
    "content = response.choices[0].message.content\n",
    "import datetime\n",
    "\n",
    "name_from_time = datetime.datetime.now().strftime(\"%Y-%m-%d  %H-%M-%S\")\n",
    "with open(f\"{name_from_time}.md\", \"w\") as file:\n",
    "    file.write(content)\n",
    "\n",
    "with open(f\"{name_from_time}.md\", \"a\") as file:\n",
    "    file.write(f\"\\n\\n---\\n[SYSTEM]: {system_prompt}\\n\")\n",
    "    file.write(f\"\\n[USER]: {user_prompt}\\n\")\n",
    "    file.write(f\"\\n Image: [{google_url}]({google_url})\\n\")"
   ]
  }
 ],
 "metadata": {
  "kernelspec": {
   "display_name": ".venv",
   "language": "python",
   "name": "python3"
  },
  "language_info": {
   "codemirror_mode": {
    "name": "ipython",
    "version": 3
   },
   "file_extension": ".py",
   "mimetype": "text/x-python",
   "name": "python",
   "nbconvert_exporter": "python",
   "pygments_lexer": "ipython3",
   "version": "3.12.3"
  }
 },
 "nbformat": 4,
 "nbformat_minor": 2
}
