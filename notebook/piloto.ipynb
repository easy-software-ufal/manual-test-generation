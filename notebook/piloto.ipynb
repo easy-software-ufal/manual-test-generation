{
 "cells": [
  {
   "cell_type": "code",
   "execution_count": 1,
   "metadata": {},
   "outputs": [],
   "source": [
    "system_prompt = \"I want you to act as a QA specialist. I will provide you with two images. The first one is a screenshot of a web page in its old version and the second one is an updated version that may contain changes. I will also provide you with a list of natural language tests for the old version of the page, which are composed of a test description, a precondition (optional), and a list of actions and verifications. The actions appear numbered and the verification after each of them.\""
   ]
  },
  {
   "cell_type": "code",
   "execution_count": 2,
   "metadata": {},
   "outputs": [],
   "source": [
    "user_prompt = \"My first request is “I need to update, if necessary, the tests to reflect the changes on the updated version of the web page.”\""
   ]
  },
  {
   "cell_type": "code",
   "execution_count": 7,
   "metadata": {},
   "outputs": [
    {
     "data": {
      "text/plain": [
       "'https://drive.google.com/uc?export=download&id=17twe5d0V-Aq4t-l6VrF-PvmSqYAjW8dn'"
      ]
     },
     "execution_count": 7,
     "metadata": {},
     "output_type": "execute_result"
    }
   ],
   "source": [
    "def extract_id_url_from_google_share_link(share_link):\n",
    "    return share_link.split(\"/\")[5]\n",
    "\n",
    "def create_download_url_from_id(id):\n",
    "    return \"https://drive.google.com/uc?export=download&id=\" + id\n",
    "\n",
    "def create_url_from_link(share_link):\n",
    "    return create_download_url_from_id(extract_id_url_from_google_share_link(share_link))\n",
    "\n",
    "create_url_from_link('https://drive.google.com/file/d/17twe5d0V-Aq4t-l6VrF-PvmSqYAjW8dn/view?usp=drive_link')"
   ]
  },
  {
   "cell_type": "code",
   "execution_count": 13,
   "metadata": {},
   "outputs": [],
   "source": [
    "from openai import OpenAI\n",
    "import os\n",
    "\n",
    "client = OpenAI(api_key=os.environ[\"OPENAI_API_KEY\"])\n",
    "google_url = create_url_from_link(input('Cole o link do google drive')) # type: ignore\n",
    "response = client.chat.completions.create(\n",
    "    model=\"gpt-4o\",\n",
    "    messages=[\n",
    "        {\n",
    "            \"role\": \"system\",\n",
    "            \"content\": system_prompt, # type: ignore\n",
    "        },\n",
    "        {\n",
    "            \"role\": \"user\",\n",
    "            \"content\": [\n",
    "                {\n",
    "                    \"type\": \"text\",\n",
    "                    \"text\": user_prompt, # type: ignore\n",
    "                },\n",
    "                {\n",
    "                    \"type\": \"image_url\",\n",
    "                    \"image_url\": {\n",
    "                        \"url\": google_url,\n",
    "                    },\n",
    "                },\n",
    "            ],\n",
    "        },\n",
    "    ],\n",
    ")\n",
    "\n",
    "content = response.choices[0].message.content\n",
    "import datetime\n",
    "\n",
    "name_from_time = datetime.datetime.now().strftime(\"%Y-%m-%d  %H-%M-%S\")\n",
    "with open(f'{name_from_time}.md', \"w\") as file:\n",
    "    file.write(content)\n",
    "\n",
    "with open(f'{name_from_time}.md', \"a\") as file:\n",
    "    file.write(f'\\n\\n---\\n[SYSTEM]: {system_prompt}\\n')\n",
    "    file.write(f'\\n[USER]: {user_prompt}\\n')\n",
    "    file.write(f'\\n Image: [{google_url}]({google_url})\\n')"
   ]
  },
  {
   "cell_type": "code",
   "execution_count": 14,
   "metadata": {},
   "outputs": [
    {
     "name": "stdout",
     "output_type": "stream",
     "text": [
      "ChatCompletion(id='chatcmpl-9tGD8ZOq9Ppj5ljpzFPL21GjAMQMT', choices=[Choice(finish_reason='stop', index=0, logprobs=None, message=ChatCompletionMessage(content='### Test Case 1: Navigation Menu Validation\\n\\n**Preconditions:** User is on the Bing homepage.\\n\\n| Step | Actions | Verifications |\\n|------|---------|---------------|\\n| 1 | Find the navigation menu at the top of the page (Copilot, Images, Videos, Shopping, Maps, News). | Verify that all navigation links are present and visible on the page. |\\n| 2 | Click on each navigation link one by one (Copilot, Images, Videos, Shopping, Maps, News). | Verify that clicking each link navigates to the respective section of Bing. |\\n\\n### Test Case 2: Search Functionality Test\\n\\n**Preconditions:** User is on the Bing homepage.\\n\\n| Step | Actions | Verifications |\\n|------|---------|---------------|\\n| 1 | Locate the search bar in the center of the homepage. | Verify that the search bar is present and clickable. |\\n| 2 | Enter a search query (e.g., \"climate change\") and press Enter or click the search icon. | Verify that the search results page appears, displaying relevant results for the query. |\\n\\n### Test Case 3: Weather Information Accuracy\\n\\n**Preconditions:** User is on the Bing homepage.\\n\\n| Step | Actions | Verifications |\\n|------|---------|---------------|\\n| 1 | Look for the weather information at the top right of the page. | Verify that the weather widget is present and visible. |\\n| 2 | Verify the displayed city (Maceió) and temperature (82°F) against a known weather source. | Verify that the temperature and city match the data from a reliable weather source. |\\n\\n### Test Case 4: Recommended News Links Validation\\n\\n**Preconditions:** User is on the Bing homepage.\\n\\n| Step | Actions | Verifications |\\n|------|---------|---------------|\\n| 1 | Scroll down to the \"RECOMMENDED FOR YOU\" section. | Verify that the section is present and contains a list of news articles. |\\n| 2 | Click on each news headline (e.g., \"Tennessee Republican files articles of impeachment\"). | Verify that clicking a headline opens the corresponding news article in a new tab or page. |\\n\\n### Test Case 5: Image Carousel Functionality\\n\\n**Preconditions:** User is on the Bing homepage.\\n\\n| Step | Actions | Verifications |\\n|------|---------|---------------|\\n| 1 | Locate the image carousel section below the search bar showing the sheep image. | Verify that the image carousel is present and images rotate automatically or manually. |\\n| 2 | Manually click the arrow buttons (left and right) to navigate through the images in the carousel. | Verify that clicking the arrow buttons successfully navigates through different images in the carousel. |\\n\\n\\n### Test Case 1: Top Navigation Links Check\\n\\n**Preconditions:** User is at Bing\\'s homepage.\\n\\n| Step | Actions | Verifications |\\n|------|---------|---------------|\\n| 1 | Identify the top navigation menu including Copilot, Images, Videos, Shopping, Maps, and News. | Ensure that all the menu links are visible and properly aligned. |\\n| 2 | Click on each menu item one by one starting from Copilot to News. | Confirm that each click successfully redirects to the related section on Bing. |\\n\\n### Test Case 2: Conducting a Search Query\\n\\n**Preconditions:** User is at Bing\\'s homepage.\\n\\n| Step | Actions | Verifications |\\n|------|---------|---------------|\\n| 1 | Find the search bar located in the middle of the homepage. | Ensure the search bar is visible and clickable. |\\n| 2 | Type in a search term (e.g., \"global warming\") and click the search icon or press Enter. | Verify that the search results page appears with relevant results for the entered query. |\\n\\n### Test Case 3: Weather Widget Verification\\n\\n**Preconditions:** User is at Bing\\'s homepage.\\n\\n| Step | Actions | Verifications |\\n|------|---------|---------------|\\n| 1 | Locate the weather widget at the upper right corner displaying city and temperature. | Ensure the weather widget is present and readable. |\\n| 2 | Cross-check the displayed weather information for Maceió and temperature against a reliable weather website. | Verify the accuracy of the weather information displayed on Bing. |\\n\\n### Test Case 4: Clickable News Headlines\\n\\n**Preconditions:** User is at Bing\\'s homepage.\\n\\n| Step | Actions | Verifications |\\n|------|---------|---------------|\\n| 1 | Navigate to the \"RECOMMENDED FOR YOU\" news section. | Ensure the news section is present with various news headlines. |\\n| 2 | Click on each news headline (e.g., \"Complaint over funds access\"). | Confirm that each headline successfully opens the respective news article on a new page or tab. |\\n\\n### Test Case 5: Image Carousel Navigation Test\\n\\n**Preconditions:** User is at Bing\\'s homepage.\\n\\n| Step | Actions | Verifications |\\n|------|---------|---------------|\\n| 1 | Identify the image carousel with sheep images located under the search bar. | Ensure the carousel is present, with images easily viewable. |\\n| 2 | Click the right and left arrows of the image carousel to browse through different images. | Confirm that clicking the arrows correctly navigates to the next or previous images in the carousel. |\\n', role='assistant', function_call=None, tool_calls=None))], created=1722957382, model='gpt-4o-2024-05-13', object='chat.completion', service_tier=None, system_fingerprint='fp_c9aa9c0491', usage=CompletionUsage(completion_tokens=1090, prompt_tokens=1622, total_tokens=2712))\n",
      "CompletionUsage(completion_tokens=1090, prompt_tokens=1622, total_tokens=2712)\n"
     ]
    }
   ],
   "source": [
    "print(response)\n",
    "print(response.usage)"
   ]
  },
  {
   "cell_type": "code",
   "execution_count": 18,
   "metadata": {},
   "outputs": [],
   "source": [
    "content = response.choices[0].message.content\n",
    "import datetime\n",
    "\n",
    "name_from_time = datetime.datetime.now().strftime(\"%Y-%m-%d  %H-%M-%S\")\n",
    "with open(f'{name_from_time}.md', \"w\") as file:\n",
    "    file.write(content)\n",
    "\n",
    "with open(f'{name_from_time}.md', \"a\") as file:\n",
    "    file.write(f'\\n\\n---\\n[SYSTEM]: {system_prompt}\\n')\n",
    "    file.write(f'\\n[USER]: {user_prompt}\\n')\n",
    "    file.write(f'\\n Image: [{google_url}]({google_url})\\n')"
   ]
  }
 ],
 "metadata": {
  "kernelspec": {
   "display_name": "venv",
   "language": "python",
   "name": "python3"
  },
  "language_info": {
   "codemirror_mode": {
    "name": "ipython",
    "version": 3
   },
   "file_extension": ".py",
   "mimetype": "text/x-python",
   "name": "python",
   "nbconvert_exporter": "python",
   "pygments_lexer": "ipython3",
   "version": "3.11.0"
  }
 },
 "nbformat": 4,
 "nbformat_minor": 2
}
