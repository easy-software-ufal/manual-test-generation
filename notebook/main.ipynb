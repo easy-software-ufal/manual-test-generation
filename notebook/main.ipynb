{
 "cells": [
  {
   "cell_type": "code",
   "execution_count": 53,
   "metadata": {},
   "outputs": [],
   "source": [
    "system_prompt = \"You are a specialist in manual natural language tests. You need to test different functionalities. You cannot create similar test cases. The test cases should be detailed and cover both basic functionality and potential edge cases to ensure comprehensive testing. Follow a professional and clear style guide. First step is to analyze the picture, then write the test cases. Third step is to rewrite similar test cases to avoid similarities.\""
   ]
  },
  {
   "cell_type": "code",
   "execution_count": 54,
   "metadata": {},
   "outputs": [],
   "source": [
    "user_prompt = \"Create a manual test case suite with 5 test cases for the provided screenshot, where each test will have different objectives. Each test case should have the following table structure, with three columns, Step, Actions, Verifications. Also, add a title to each table. Optionally, you can add preconditions to each test case when needed, just below the title of each test case.\""
   ]
  },
  {
   "cell_type": "code",
   "execution_count": 15,
   "metadata": {},
   "outputs": [
    {
     "data": {
      "text/plain": [
       "'https://drive.google.com/uc?export=download&id=1DJU4U2oLLpcGLd5VrphdCAgXgrZalC2d'"
      ]
     },
     "execution_count": 15,
     "metadata": {},
     "output_type": "execute_result"
    }
   ],
   "source": [
    "def extract_id_url_from_google_share_link(share_link):\n",
    "    return share_link.split(\"/\")[5]\n",
    "\n",
    "def create_download_url_from_id(id):\n",
    "    return \"https://drive.google.com/uc?export=download&id=\" + id\n",
    "\n",
    "def create_url_from_link(share_link):\n",
    "    return create_download_url_from_id(extract_id_url_from_google_share_link(share_link))\n",
    "\n",
    "create_url_from_link('https://drive.google.com/file/d/17twe5d0V-Aq4t-l6VrF-PvmSqYAjW8dn/view?usp=drive_link')"
   ]
  },
  {
   "cell_type": "code",
   "execution_count": 50,
   "metadata": {},
   "outputs": [],
   "source": [
    "from openai import OpenAI\n",
    "import os\n",
    "\n",
    "client = OpenAI(api_key=os.environ[\"OPENAI_API_KEY\"])\n",
    "google_url = create_url_from_link(input('Cole o link do google drive')) # type: ignore\n",
    "response = client.chat.completions.create(\n",
    "    model=\"gpt-4o\",\n",
    "    messages=[\n",
    "        {\n",
    "            \"role\": \"system\",\n",
    "            \"content\": system_prompt, # type: ignore\n",
    "        },\n",
    "        {\n",
    "            \"role\": \"user\",\n",
    "            \"content\": [\n",
    "                {\n",
    "                    \"type\": \"text\",\n",
    "                    \"text\": user_prompt, # type: ignore\n",
    "                },\n",
    "                {\n",
    "                    \"type\": \"image_url\",\n",
    "                    \"image_url\": {\n",
    "                        \"url\": google_url,\n",
    "                    },\n",
    "                },\n",
    "            ],\n",
    "        },\n",
    "    ],\n",
    ")"
   ]
  },
  {
   "cell_type": "code",
   "execution_count": 51,
   "metadata": {},
   "outputs": [
    {
     "name": "stdout",
     "output_type": "stream",
     "text": [
      "ChatCompletion(id='chatcmpl-9oZwX1FF3N0BAuBY9rk9ib7vlLVJ6', choices=[Choice(finish_reason='stop', index=0, logprobs=None, message=ChatCompletionMessage(content='**Test Case 1: Verify the Search Functionality**\\n\\n**Preconditions:** The user is on the Amazon home page.\\n\\n| Step | Actions | Verifications |\\n|------|---------|---------------|\\n| 1 | Locate the search bar at the top-center of the screen. | The search bar should be visible. |\\n| 2 | Enter \"wireless speakers\" into the search bar. | Text is entered into the search bar. |\\n| 3 | Click the search icon (magnifying glass) next to the search bar. | The user is directed to a new page with search results related to \"wireless speakers\". |\\n\\n**Test Case 2: Check Navigation to \\'Best Sellers\\'**\\n\\n**Preconditions:** The user is on the Amazon home page.\\n\\n| Step | Actions | Verifications |\\n|------|---------|---------------|\\n| 1 | Identify the \"Best Sellers\" link in the top navigation bar. | The \"Best Sellers\" link should be visible. |\\n| 2 | Click on the \"Best Sellers\" link. | The user is directed to the Best Sellers page. |\\n\\n**Test Case 3: Validate \\'Account & Lists\\' Dropdown**\\n\\n**Preconditions:** The user is on the Amazon home page.\\n\\n| Step | Actions | Verifications |\\n|------|---------|---------------|\\n| 1 | Hover the mouse over the \"Account & Lists\" link located at the top right of the screen. | A dropdown menu should appear. |\\n| 2 | Inspect the dropdown menu options. | The menu should display various options such as \"Your Account\", \"Your Orders\", etc. |\\n| 3 | Click on the \"Your Orders\" option. | The user should be redirected to the \"Your Orders\" page. |\\n\\n**Test Case 4: Verify Carousel Navigation**\\n\\n**Preconditions:** The user is on the Amazon home page with the carousel in view.\\n\\n| Step | Actions | Verifications |\\n|------|---------|---------------|\\n| 1 | Locate the left arrow of the home page carousel. | The left arrow should be visible. |\\n| 2 | Click the left arrow. | The carousel should shift to display the previous slide. |\\n| 3 | Locate the right arrow of the home page carousel. | The right arrow should be visible. |\\n| 4 | Click the right arrow. | The carousel should shift to display the next slide. |\\n\\n**Test Case 5: Check \\'Cart\\' Functionality**\\n\\n**Preconditions:** The user is on the Amazon home page.\\n\\n| Step | Actions | Verifications |\\n|------|---------|---------------|\\n| 1 | Locate the cart icon at the top-right corner of the screen. | The cart icon should be visible. |\\n| 2 | Click on the cart icon. | The user should be redirected to the cart page. |\\n| 3 | Verify the contents of the cart. | The cart should display any items previously added. If empty, a relevant message should be displayed. |', role='assistant', function_call=None, tool_calls=None))], created=1721841593, model='gpt-4o-2024-05-13', object='chat.completion', service_tier=None, system_fingerprint='fp_18cc0f1fa0', usage=CompletionUsage(completion_tokens=609, prompt_tokens=1612, total_tokens=2221))\n",
      "CompletionUsage(completion_tokens=609, prompt_tokens=1612, total_tokens=2221)\n"
     ]
    }
   ],
   "source": [
    "print(response)\n",
    "print(response.usage)"
   ]
  },
  {
   "cell_type": "code",
   "execution_count": 57,
   "metadata": {},
   "outputs": [],
   "source": [
    "content = response.choices[0].message.content\n",
    "import datetime\n",
    "\n",
    "name_from_time = datetime.datetime.now().strftime(\"%Y-%m-%d  %H-%M-%S\")\n",
    "with open(f'{name_from_time}.md', \"w\") as file:\n",
    "    file.write(content)\n",
    "\n",
    "with open(f'{name_from_time}.md', \"a\") as file:\n",
    "    file.write(f'\\n\\n---\\n[SYSTEM]: {system_prompt}\\n')\n",
    "    file.write(f'\\n[USER]: {user_prompt}\\n')\n",
    "    file.write(f'\\n Image: [{google_url}]({google_url})\\n')"
   ]
  }
 ],
 "metadata": {
  "kernelspec": {
   "display_name": ".venv",
   "language": "python",
   "name": "python3"
  },
  "language_info": {
   "codemirror_mode": {
    "name": "ipython",
    "version": 3
   },
   "file_extension": ".py",
   "mimetype": "text/x-python",
   "name": "python",
   "nbconvert_exporter": "python",
   "pygments_lexer": "ipython3",
   "version": "3.11.0"
  }
 },
 "nbformat": 4,
 "nbformat_minor": 2
}
