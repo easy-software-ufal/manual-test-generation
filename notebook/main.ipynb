{
 "cells": [
  {
   "cell_type": "code",
   "execution_count": 2,
   "metadata": {},
   "outputs": [],
   "source": [
    "system_prompt = \"You are a specialist in manual natural language tests. You need to test different functionalities. You cannot create similar test cases. The test cases should be detailed and cover both basic functionality and potential edge cases to ensure comprehensive testing. Follow a professional and clear style guide. First step is to analyze the picture, then write the test cases. Third step is to rewrite similar test cases to avoid similarities.\""
   ]
  },
  {
   "cell_type": "code",
   "execution_count": 3,
   "metadata": {},
   "outputs": [],
   "source": [
    "user_prompt = \"Create a manual test case suite with 5 test cases for the provided screenshot, where each test will have different objectives. Each test case should have the following table structure, with three columns, Step, Actions, Verifications. Also, add a title to each table. Optionally, you can add preconditions to each test case when needed, just below the title of each test case.\""
   ]
  },
  {
   "cell_type": "code",
   "execution_count": 4,
   "metadata": {},
   "outputs": [
    {
     "data": {
      "text/plain": [
       "'https://drive.google.com/uc?export=download&id=17twe5d0V-Aq4t-l6VrF-PvmSqYAjW8dn'"
      ]
     },
     "execution_count": 4,
     "metadata": {},
     "output_type": "execute_result"
    }
   ],
   "source": [
    "def extract_id_url_from_google_share_link(share_link):\n",
    "    return share_link.split(\"/\")[5]\n",
    "\n",
    "def create_download_url_from_id(id):\n",
    "    return \"https://drive.google.com/uc?export=download&id=\" + id\n",
    "\n",
    "def create_url_from_link(share_link):\n",
    "    return create_download_url_from_id(extract_id_url_from_google_share_link(share_link))\n",
    "\n",
    "create_url_from_link('https://drive.google.com/file/d/17twe5d0V-Aq4t-l6VrF-PvmSqYAjW8dn/view?usp=drive_link')"
   ]
  },
  {
   "cell_type": "code",
   "execution_count": 28,
   "metadata": {},
   "outputs": [],
   "source": [
    "from openai import OpenAI\n",
    "import os\n",
    "\n",
    "client = OpenAI(api_key=os.environ[\"OPENAI_API_KEY\"])\n",
    "google_url = create_url_from_link(input('Cole o link do google drive')) # type: ignore\n",
    "response = client.chat.completions.create(\n",
    "    model=\"gpt-4o\",\n",
    "    messages=[\n",
    "        {\n",
    "            \"role\": \"system\",\n",
    "            \"content\": system_prompt, # type: ignore\n",
    "        },\n",
    "        {\n",
    "            \"role\": \"user\",\n",
    "            \"content\": [\n",
    "                {\n",
    "                    \"type\": \"text\",\n",
    "                    \"text\": user_prompt, # type: ignore\n",
    "                },\n",
    "                {\n",
    "                    \"type\": \"image_url\",\n",
    "                    \"image_url\": {\n",
    "                        \"url\": google_url,\n",
    "                    },\n",
    "                },\n",
    "            ],\n",
    "        },\n",
    "    ],\n",
    ")\n",
    "\n",
    "content = response.choices[0].message.content\n",
    "import datetime\n",
    "\n",
    "name_from_time = datetime.datetime.now().strftime(\"%Y-%m-%d  %H-%M-%S\")\n",
    "with open(f'{name_from_time}.md', \"w\") as file:\n",
    "    file.write(content)\n",
    "\n",
    "with open(f'{name_from_time}.md', \"a\") as file:\n",
    "    file.write(f'\\n\\n---\\n[SYSTEM]: {system_prompt}\\n')\n",
    "    file.write(f'\\n[USER]: {user_prompt}\\n')\n",
    "    file.write(f'\\n Image: [{google_url}]({google_url})\\n')"
   ]
  },
  {
   "cell_type": "code",
   "execution_count": 16,
   "metadata": {},
   "outputs": [
    {
     "name": "stdout",
     "output_type": "stream",
     "text": [
      "ChatCompletion(id='chatcmpl-9qMUXnDpXHw57ZfwH6PhWT2OcwfSI', choices=[Choice(finish_reason='stop', index=0, logprobs=None, message=ChatCompletionMessage(content='# Test Case Suite for Gmail Screenshot\\n\\n## Test Case 1: Verify the Search Mail Functionality\\n**Preconditions**: User is logged into Gmail.\\n\\n| Step | Actions | Verifications |\\n|------|----------|---------------|\\n| 1 | Click on the \"Search mail\" bar. | Search bar becomes active, ready for text input. |\\n| 2 | Type \"DataCamp Team\" into the search bar and press Enter. | The email with the subject \"Your Statement of Accomplishment has Arrived\" from \"The DataCamp Team\" is displayed. |\\n\\n## Test Case 2: Verify Email Opening from Inbox\\n**Preconditions**: User is logged into Gmail, and the Inbox is loaded.\\n\\n| Step | Actions | Verifications |\\n|------|----------|---------------|\\n| 1 | Click on the email subject \"Your Statement of Accomplishment has Arrived\". | The full email opens, displaying the message body and any attachments. |\\n\\n## Test Case 3: Verify Composing a New Email\\n**Preconditions**: User is logged into Gmail and is on the main screen.\\n\\n| Step | Actions | Verifications |\\n|------|----------|---------------|\\n| 1 | Click on the \"Compose\" button. | A new email window opens for composing an email. |\\n| 2 | Enter a recipient email address, subject, and body text, then click on the \"Send\" button. | The email is sent, and a confirmation message appears, stating that the email has been sent. |\\n\\n## Test Case 4: Verify the Full-Screen Mode Exit\\n**Preconditions**: User is logged into Gmail and is currently in full-screen mode.\\n\\n| Step | Actions | Verifications |\\n|------|----------|---------------|\\n| 1 | Press the \"F11\" key on the keyboard.| The Gmail application exits full-screen mode; the browser reverts to normal view. |\\n\\n## Test Case 5: Verify Viewing Draft Emails\\n**Preconditions**: User is logged into Gmail and has saved draft emails.\\n\\n| Step | Actions | Verifications |\\n|------|----------|---------------|\\n| 1 | Click on the \"Drafts\" folder in the left panel. | The screen displays the list of draft emails saved. |\\n| 2 | Select any email from the list. | The selected draft email opens for viewing and editing. |\\n\\nThese comprehensive test cases cover various functionalities of the Gmail interface, from searching mails to managing drafts, ensuring thorough testing of the features.', role='assistant', function_call=None, tool_calls=None))], created=1722266541, model='gpt-4o-2024-05-13', object='chat.completion', service_tier=None, system_fingerprint='fp_bc2a86f5f5', usage=CompletionUsage(completion_tokens=511, prompt_tokens=1272, total_tokens=1783))\n",
      "CompletionUsage(completion_tokens=511, prompt_tokens=1272, total_tokens=1783)\n"
     ]
    }
   ],
   "source": [
    "print(response)\n",
    "print(response.usage)"
   ]
  },
  {
   "cell_type": "code",
   "execution_count": 18,
   "metadata": {},
   "outputs": [],
   "source": [
    "content = response.choices[0].message.content\n",
    "import datetime\n",
    "\n",
    "name_from_time = datetime.datetime.now().strftime(\"%Y-%m-%d  %H-%M-%S\")\n",
    "with open(f'{name_from_time}.md', \"w\") as file:\n",
    "    file.write(content)\n",
    "\n",
    "with open(f'{name_from_time}.md', \"a\") as file:\n",
    "    file.write(f'\\n\\n---\\n[SYSTEM]: {system_prompt}\\n')\n",
    "    file.write(f'\\n[USER]: {user_prompt}\\n')\n",
    "    file.write(f'\\n Image: [{google_url}]({google_url})\\n')"
   ]
  }
 ],
 "metadata": {
  "kernelspec": {
   "display_name": ".venv",
   "language": "python",
   "name": "python3"
  },
  "language_info": {
   "codemirror_mode": {
    "name": "ipython",
    "version": 3
   },
   "file_extension": ".py",
   "mimetype": "text/x-python",
   "name": "python",
   "nbconvert_exporter": "python",
   "pygments_lexer": "ipython3",
   "version": "3.11.0"
  }
 },
 "nbformat": 4,
 "nbformat_minor": 2
}
