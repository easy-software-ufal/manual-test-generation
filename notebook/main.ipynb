{
 "cells": [
  {
   "cell_type": "code",
   "execution_count": 24,
   "metadata": {},
   "outputs": [],
   "source": [
    "from openai import OpenAI\n",
    "\n",
    "client = OpenAI(api_key=\"YOUR_OPENAPI_API_KEY\")\n",
    "\n",
    "response = client.chat.completions.create(\n",
    "    model=\"gpt-4o\",\n",
    "    messages=[\n",
    "        {\n",
    "            \"role\": \"system\",\n",
    "            \"content\": \"You are a specialist in manual natural language tests.\",\n",
    "        },\n",
    "        {\n",
    "            \"role\": \"user\",\n",
    "            \"content\": [\n",
    "                {\n",
    "                    \"type\": \"text\",\n",
    "                    \"text\": \"Create a manual test case suite with 5 different test cases for the provided screenshot. Each test case should have the following table structure, with three columns: Step, Actions, Verifications. Also, add a title to each table. The test cases should be detailed and cover both basic functionality and potential edge cases to ensure comprehensive testing. These test cases will be used by testers to manually verify the functionality of the application. They need to be clear and easy to follow. The test cases should be formal and precise, ensuring that all steps are clearly defined and easy to understand. Follow a professional and clear style guide.\",\n",
    "                },\n",
    "                {\n",
    "                    \"type\": \"image_url\",\n",
    "                    \"image_url\": {\n",
    "                        \"url\": \"https://drive.google.com/uc?export=download&id=17twe5d0V-Aq4t-l6VrF-PvmSqYAjW8dn\",\n",
    "                    },\n",
    "                },\n",
    "            ],\n",
    "        },\n",
    "    ],\n",
    ")"
   ]
  },
  {
   "cell_type": "code",
   "execution_count": 25,
   "metadata": {},
   "outputs": [
    {
     "name": "stdout",
     "output_type": "stream",
     "text": [
      "ChatCompletion(id='chatcmpl-9oHrAT5WqnNrByV8qYldCMRDpAj2t', choices=[Choice(finish_reason='stop', index=0, logprobs=None, message=ChatCompletionMessage(content='## Test Case 1: Verify Navigation to \"College tech under $50\"\\n\\n| Step | Actions                                                       | Verifications                                            |\\n|------|---------------------------------------------------------------|----------------------------------------------------------|\\n| 1    | Open the browser and navigate to the Amazon homepage          | Amazon homepage is displayed                             |\\n| 2    | Locate the \"College tech under $50\" section on the homepage   | Section is visible and properly loaded                   |\\n| 3    | Click on the \"Shop now\" button under \"College tech under $50\" | User is navigated to the \"College tech under $50\" page   |\\n| 4    | Verify the content on the \"College tech under $50\" page       | Products within the $50 range are displayed as expected  |\\n\\n## Test Case 2: Verify Search Functionality\\n\\n| Step | Actions                                             | Verifications                                      |\\n|------|-----------------------------------------------------|----------------------------------------------------|\\n| 1    | Open the browser and navigate to the Amazon homepage| Amazon homepage is displayed                       |\\n| 2    | Enter \"wireless headphones\" into the search bar     | Text is entered into the search bar                |\\n| 3    | Click on the search icon                            | User is navigated to the search results page       |\\n| 4    | Verify the search results                           | List of wireless headphones is displayed as expected|\\n\\n## Test Case 3: Verify \"New home arrivals under $50\" Navigation\\n\\n| Step | Actions                                                       | Verifications                                            |\\n|------|---------------------------------------------------------------|----------------------------------------------------------|\\n| 1    | Open the browser and navigate to the Amazon homepage          | Amazon homepage is displayed                             |\\n| 2    | Locate the \"New home arrivals under $50\" section on the homepage   | Section is visible and properly loaded                   |\\n| 3    | Click on the \"Shop the latest from Home\" link under \"New home arrivals\" | User is navigated to the \"New home arrivals under $50\" page   |\\n| 4    | Verify the content on the \"New home arrivals under $50\" page| Products within the $50 range are displayed as expected  |\\n\\n## Test Case 4: Verify \"Save on school essentials\" Navigation\\n\\n| Step | Actions                                                            | Verifications                                                   |\\n|------|--------------------------------------------------------------------|---------------------------------------------------------------|\\n| 1    | Open the browser and navigate to the Amazon homepage               | Amazon homepage is displayed                                    |\\n| 2    | Locate the \"Save on school essentials\" section on the homepage     | Section is visible and properly loaded                          |\\n| 3    | Click on the \"Shop all\" link under \"Save on school essentials\"     | User is navigated to the \"Save on school essentials\" page       |\\n| 4    | Verify the content on the \"Save on school essentials\" page         | School supplies within the promotional offers are displayed as expected|\\n\\n## Test Case 5: Verify Navigation to \"Summer fashion for all\"\\n\\n| Step | Actions                                                       | Verifications                                            |\\n|------|---------------------------------------------------------------|----------------------------------------------------------|\\n| 1    | Open the browser and navigate to the Amazon homepage          | Amazon homepage is displayed                             |\\n| 2    | Locate the \"Summer fashion for all\" section on the homepage   | Section is visible and properly loaded                   |\\n| 3    | Click on the \"Shop now\" link in \"Summer fashion for all\"      | User is navigated to the \"Summer fashion for all\" page   |\\n| 4    | Verify the content on the \"Summer fashion for all\" page       | Fashion products for summer are displayed as expected    |\\n\\nThese test cases cover basic navigation and search functionality, allowing testers to ensure that users can successfully navigate through different promotional sections and search for products.', role='assistant', function_call=None, tool_calls=None))], created=1721772068, model='gpt-4o-2024-05-13', object='chat.completion', service_tier=None, system_fingerprint='fp_18cc0f1fa0', usage=CompletionUsage(completion_tokens=761, prompt_tokens=1589, total_tokens=2350))\n"
     ]
    }
   ],
   "source": [
    "print(response)"
   ]
  },
  {
   "cell_type": "code",
   "execution_count": 26,
   "metadata": {},
   "outputs": [],
   "source": [
    "content = response.choices[0].message.content\n",
    "\n",
    "with open(\"output.md\", \"w\") as file:\n",
    "    file.write(content)"
   ]
  }
 ],
 "metadata": {
  "kernelspec": {
   "display_name": ".venv",
   "language": "python",
   "name": "python3"
  },
  "language_info": {
   "codemirror_mode": {
    "name": "ipython",
    "version": 3
   },
   "file_extension": ".py",
   "mimetype": "text/x-python",
   "name": "python",
   "nbconvert_exporter": "python",
   "pygments_lexer": "ipython3",
   "version": "3.12.3"
  }
 },
 "nbformat": 4,
 "nbformat_minor": 2
}
