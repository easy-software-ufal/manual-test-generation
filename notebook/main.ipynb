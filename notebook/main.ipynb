{
 "cells": [
  {
   "cell_type": "code",
   "execution_count": 6,
   "metadata": {},
   "outputs": [],
   "source": [
    "system_prompt = \"You are a specialist in manual natural language tests. You need to test different. You cannot create similar test cases. The test cases should be detailed and cover both basic functionality and potential edge cases to ensure comprehensive testing. Follow a professional and clear style guide.\"\n",
    "\n"
   ]
  },
  {
   "cell_type": "code",
   "execution_count": 7,
   "metadata": {},
   "outputs": [],
   "source": [
    "\n",
    "user_prompt = \"Create a manual test case suite with 5 test cases for the provided screenshot, where each test will have different objectives. Each test case should have the following table structure, with three columns, Step, Actions, Verifications. Also, add a title to each table.\""
   ]
  },
  {
   "cell_type": "code",
   "execution_count": 15,
   "metadata": {},
   "outputs": [
    {
     "data": {
      "text/plain": [
       "'https://drive.google.com/uc?export=download&id=1DJU4U2oLLpcGLd5VrphdCAgXgrZalC2d'"
      ]
     },
     "execution_count": 15,
     "metadata": {},
     "output_type": "execute_result"
    }
   ],
   "source": [
    "def extract_id_url_from_google_share_link(share_link):\n",
    "    return share_link.split(\"/\")[5]\n",
    "\n",
    "def create_download_url_from_id(id):\n",
    "    return \"https://drive.google.com/uc?export=download&id=\" + id\n",
    "\n",
    "def create_url_from_link(share_link):\n",
    "    return create_download_url_from_id(extract_id_url_from_google_share_link(share_link))\n",
    "\n",
    "create_url_from_link('https://drive.google.com/file/d/1DJU4U2oLLpcGLd5VrphdCAgXgrZalC2d/view?usp=drive_link')"
   ]
  },
  {
   "cell_type": "code",
   "execution_count": 16,
   "metadata": {},
   "outputs": [],
   "source": [
    "from openai import OpenAI\n",
    "import os\n",
    "\n",
    "client = OpenAI(api_key=os.environ[\"OPENAI_API_KEY\"])\n",
    "google_url = create_url_from_link(input('Cole o link do google drive')) # type: ignore\n",
    "response = client.chat.completions.create(\n",
    "    model=\"gpt-4o\",\n",
    "    messages=[\n",
    "        {\n",
    "            \"role\": \"system\",\n",
    "            \"content\": system_prompt, # type: ignore\n",
    "        },\n",
    "        {\n",
    "            \"role\": \"user\",\n",
    "            \"content\": [\n",
    "                {\n",
    "                    \"type\": \"text\",\n",
    "                    \"text\": user_prompt, # type: ignore\n",
    "                },\n",
    "                {\n",
    "                    \"type\": \"image_url\",\n",
    "                    \"image_url\": {\n",
    "                        \"url\": google_url,\n",
    "                    },\n",
    "                },\n",
    "            ],\n",
    "        },\n",
    "    ],\n",
    ")"
   ]
  },
  {
   "cell_type": "code",
   "execution_count": 17,
   "metadata": {},
   "outputs": [
    {
     "name": "stdout",
     "output_type": "stream",
     "text": [
      "ChatCompletion(id='chatcmpl-9oIs3VqfffJXOBiDHeuLRvDnzQ2AB', choices=[Choice(finish_reason='stop', index=0, logprobs=None, message=ChatCompletionMessage(content='# Test Case 1: Search for a Location\\n\\n| Step   | Actions                                | Verifications                        |\\n|--------|----------------------------------------|--------------------------------------|\\n| 1      | Click on the search bar                | The search field becomes activated.  |\\n| 2      | Type \"NYC Health + Hospitals/Coler\"     | The text appears in the search bar.  |\\n| 3      | Press Enter or click the search icon   | The map updates to show the location |\\n| 4      | Verify location marker appears         | A marker for \"NYC Health + Hospitals/Coler\" is shown |\\n| 5      | Verify information is displayed        | An informational panel about \"NYC Health + Hospitals/Coler\" appears |\\n\\n# Test Case 2: Change Map Layers\\n\\n| Step   | Actions                                | Verifications                        |\\n|--------|----------------------------------------|--------------------------------------|\\n| 1      | Click on the “Camadas” (Layers) button | The layers menu opens.               |\\n| 2      | Select a different map layer            | The option is highlighted/selected.  |\\n| 3      | Verify map updates to new layer        | The map updates to the selected layer (e.g., Satellite view). |\\n| 4      | Close the layers menu                  | Menu closes successfully.            |\\n\\n# Test Case 3: Filter by Category\\n\\n| Step   | Actions                                | Verifications                        |\\n|--------|----------------------------------------|--------------------------------------|\\n| 1      | Click on “Restaurantes” (Restaurants) | The filter for Restaurants activates.|\\n| 2      | Observe the map for changes           | The map displays markers for restaurants. |\\n| 3      | Click on any restaurant marker        | An informational panel about the restaurant appears. |\\n| 4      | Verify restaurant details are shown    | Details such as name, rating, and address are displayed. |\\n\\n# Test Case 4: Navigation and Zoom\\n\\n| Step   | Actions                                | Verifications                        |\\n|--------|----------------------------------------|--------------------------------------|\\n| 1      | Use the mouse scroll to zoom in        | The map zooms in.                    |\\n| 2      | Verify the details of the map          | More detailed map elements are visible. |\\n| 3      | Use the mouse scroll to zoom out       | The map zooms out.                   |\\n| 4      | Verify the details of the map          | The map shows a broader area with fewer details. |\\n| 5      | Use the arrow buttons to pan around    | The map pans in the direction of the button press. |\\n\\n# Test Case 5: Verify Localization Language Setting\\n\\n| Step   | Actions                                | Verifications                        |\\n|--------|----------------------------------------|--------------------------------------|\\n| 1      | Observe language displayed on screen   | Check that all text elements are in the desired language (Portuguese). |\\n| 2      | Click on the menu icon for settings    | The settings menu opens.             |\\n| 3      | Navigate to language settings          | The language options are displayed.  |\\n| 4      | Verify displayed and map terms consistent with the selected language | Texts such as menu items and location names use the selected language. |\\n| 5      | Ensure no misalignment in text display | All displayed text should be relevant and correctly placed. |', role='assistant', function_call=None, tool_calls=None))], created=1721775967, model='gpt-4o-2024-05-13', object='chat.completion', service_tier=None, system_fingerprint='fp_18cc0f1fa0', usage=CompletionUsage(completion_tokens=692, prompt_tokens=1561, total_tokens=2253))\n",
      "CompletionUsage(completion_tokens=692, prompt_tokens=1561, total_tokens=2253)\n"
     ]
    }
   ],
   "source": [
    "print(response)\n",
    "print(response.usage)"
   ]
  },
  {
   "cell_type": "code",
   "execution_count": 18,
   "metadata": {},
   "outputs": [],
   "source": [
    "content = response.choices[0].message.content\n",
    "import datetime\n",
    "\n",
    "name_from_time = datetime.datetime.now().strftime(\"%Y-%m-%d  %H-%M-%S\")\n",
    "with open(f'{name_from_time}.md', \"w\") as file:\n",
    "    file.write(content)"
   ]
  }
 ],
 "metadata": {
  "kernelspec": {
   "display_name": ".venv",
   "language": "python",
   "name": "python3"
  },
  "language_info": {
   "codemirror_mode": {
    "name": "ipython",
    "version": 3
   },
   "file_extension": ".py",
   "mimetype": "text/x-python",
   "name": "python",
   "nbconvert_exporter": "python",
   "pygments_lexer": "ipython3",
   "version": "3.11.0"
  }
 },
 "nbformat": 4,
 "nbformat_minor": 2
}
